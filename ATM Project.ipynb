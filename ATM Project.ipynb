{
 "cells": [
  {
   "cell_type": "code",
   "execution_count": 1,
   "id": "f6198b14",
   "metadata": {},
   "outputs": [],
   "source": [
    "class Atm:\n",
    "    def __init__(self):\n",
    "        self.pin = \"\"\n",
    "        self.balance  = 0\n",
    "        self.menu()\n",
    "        \n",
    "    def menu(self):\n",
    "        user_input = int(input(\"\"\"\n",
    "        1 : create_pin\n",
    "        2 : check_balance\n",
    "        3 : deposite\n",
    "        4 : widthrawl\n",
    "        5 : change_pin\n",
    "        6 : exit\n",
    "        \"\"\"))\n",
    "        \n",
    "        if user_input == 1:\n",
    "            self.create_pin()\n",
    "        if user_input == 2:\n",
    "            self.check_balance()\n",
    "        if user_input == 3:\n",
    "            self.deposite()\n",
    "        if user_input == 4:\n",
    "            self.widthrawl()\n",
    "        if user_input == 5:\n",
    "            self.change_pin()\n",
    "        if user_input == 6:\n",
    "            self.exit()\n",
    "            \n",
    "    def create_pin(self):\n",
    "        user_pin = input(\"Enter 4 digit pin\")\n",
    "        self.pin = user_pin\n",
    "        print(\"Your pin created successfully\")\n",
    "    \n",
    "    def check_balance(self):\n",
    "        user_input = input(\"Enter 4 digit pin\")\n",
    "        if self.pin == user_input:\n",
    "            print(f\" Your Current Balance is: {self.balance}\")\n",
    "        else:\n",
    "            print(\"Invalid pin\")\n",
    "            \n",
    "    def deposite(self):\n",
    "        user_input = input(\"Enter 4 digit pin\")\n",
    "        if self.pin == user_input:\n",
    "            balance = int(input(\"Enter your amount\"))\n",
    "            self.balance+=balance\n",
    "            print(\"Amount Deposited Successfully\")  \n",
    "        else:\n",
    "            print(\"Invalid pin\")\n",
    "            \n",
    "    def withdrawl(self):\n",
    "        user_input = input(\"Enter 4 digit pin\")\n",
    "        if self.pin == user_input:\n",
    "            amount = int(input(\"Enter your Amount\"))\n",
    "            if amount<=self.balance:\n",
    "                self.balance = self.balance - amount\n",
    "                print(\"Transaction Succecful\")\n",
    "                print(f\"Your remaining balance is: {self.balance}\")\n",
    "            else:\n",
    "                print(\"You don't have enough balance to withdraw the amount.\")\n",
    "        else:\n",
    "            print(\"Invalid pin\")\n",
    "            \n",
    "    def change_pin(self):\n",
    "        user_input = input(\"Enter 4 digit pin\")\n",
    "        if self.pin == user_input:\n",
    "            new_pin = input(\"Enter your 4 digit pin\")\n",
    "            self.pin = new_pin \n",
    "            print(\"Your pin is updated\")\n",
    "             \n",
    "        else:\n",
    "            print(\"Invalid pin\")\n",
    "            \n",
    "    def exit(self):\n",
    "        print(\"Thankyou! Visit Again!\")"
   ]
  },
  {
   "cell_type": "code",
   "execution_count": 2,
   "id": "860c1263",
   "metadata": {},
   "outputs": [
    {
     "name": "stdout",
     "output_type": "stream",
     "text": [
      "\n",
      "        1 : create_pin\n",
      "        2 : check_balance\n",
      "        3 : deposite\n",
      "        4 : widthrawl\n",
      "        5 : change_pin\n",
      "        6 : exit\n",
      "        1\n",
      "Enter 4 digit pin2526\n",
      "Your pin created successfully\n"
     ]
    }
   ],
   "source": [
    "sbi = Atm()"
   ]
  },
  {
   "cell_type": "code",
   "execution_count": 3,
   "id": "2a369317",
   "metadata": {},
   "outputs": [
    {
     "name": "stdout",
     "output_type": "stream",
     "text": [
      "Enter 4 digit pin2526\n",
      " Your Current Balance is: 0\n"
     ]
    }
   ],
   "source": [
    "sbi.check_balance()"
   ]
  },
  {
   "cell_type": "code",
   "execution_count": 4,
   "id": "a35128d5",
   "metadata": {},
   "outputs": [
    {
     "name": "stdout",
     "output_type": "stream",
     "text": [
      "Enter 4 digit pin2526\n",
      "Enter your amount5000\n",
      "Amount Deposited Successfully\n"
     ]
    }
   ],
   "source": [
    "sbi.deposite()"
   ]
  },
  {
   "cell_type": "code",
   "execution_count": 5,
   "id": "bd887700",
   "metadata": {},
   "outputs": [
    {
     "name": "stdout",
     "output_type": "stream",
     "text": [
      "Enter 4 digit pin2526\n",
      "Enter your Amount3000\n",
      "Transaction Succecful\n",
      "Your remaining balance is: 2000\n"
     ]
    }
   ],
   "source": [
    "sbi.withdrawl()"
   ]
  },
  {
   "cell_type": "code",
   "execution_count": 6,
   "id": "2909067e",
   "metadata": {},
   "outputs": [
    {
     "name": "stdout",
     "output_type": "stream",
     "text": [
      "Enter 4 digit pin2526\n",
      "Enter your Amount2000\n",
      "Transaction Succecful\n",
      "Your remaining balance is: 0\n"
     ]
    }
   ],
   "source": [
    "sbi.withdrawl()"
   ]
  },
  {
   "cell_type": "code",
   "execution_count": 7,
   "id": "c31ca3ab",
   "metadata": {},
   "outputs": [
    {
     "name": "stdout",
     "output_type": "stream",
     "text": [
      "Enter 4 digit pin2526\n",
      "Enter your Amount5000\n",
      "You don't have enough balance to withdraw the amount.\n"
     ]
    }
   ],
   "source": [
    "sbi.withdrawl()"
   ]
  },
  {
   "cell_type": "code",
   "execution_count": null,
   "id": "f0bbd886",
   "metadata": {},
   "outputs": [],
   "source": []
  }
 ],
 "metadata": {
  "kernelspec": {
   "display_name": "Python 3 (ipykernel)",
   "language": "python",
   "name": "python3"
  },
  "language_info": {
   "codemirror_mode": {
    "name": "ipython",
    "version": 3
   },
   "file_extension": ".py",
   "mimetype": "text/x-python",
   "name": "python",
   "nbconvert_exporter": "python",
   "pygments_lexer": "ipython3",
   "version": "3.11.4"
  }
 },
 "nbformat": 4,
 "nbformat_minor": 5
}
